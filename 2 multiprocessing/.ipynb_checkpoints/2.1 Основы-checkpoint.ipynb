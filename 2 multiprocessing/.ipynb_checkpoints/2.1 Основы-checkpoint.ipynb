{
 "cells": [
  {
   "cell_type": "markdown",
   "id": "560e421c-1014-4985-a0ba-d33979a538fe",
   "metadata": {},
   "source": [
    "## multiprocessing"
   ]
  },
  {
   "cell_type": "code",
   "execution_count": null,
   "id": "20d8d5d0-31e6-4213-9dae-9c073d5a912d",
   "metadata": {},
   "outputs": [],
   "source": [
    "import time\n",
    "import multiprocessing\n",
    "\n",
    "def test():\n",
    "    for _ in range(10):\n",
    "        print(f'{multiprocessing.current_process().name} - {time.time()}')\n",
    "        time.sleep(1)\n",
    "        \n",
    "pr = multiprocessing.Process(target=test, name='prc-1')\n",
    "pr.start()\n",
    "print('проццесс запущен?')\n",
    "print(pr.is_alive) \n",
    "print(pr.pid)\n",
    "\n",
    "time.sleep(5)\n",
    "pr.terminate()\n",
    "\n",
    "print('проццесс запущен?')\n",
    "print(pr.is_alive)"
   ]
  },
  {
   "cell_type": "markdown",
   "id": "a9594214-d009-4034-8f35-fb464ea04750",
   "metadata": {},
   "source": [
    "### join\n",
    "позволяет дождаться выполнения процесса, и далее выполнять код"
   ]
  },
  {
   "cell_type": "code",
   "execution_count": null,
   "id": "c278b548-b1b9-4125-8740-2e5f04740554",
   "metadata": {},
   "outputs": [
    {
     "name": "stdout",
     "output_type": "stream",
     "text": [
      "все процессы завершены\n"
     ]
    }
   ],
   "source": [
    "import time\n",
    "import multiprocessing\n",
    "\n",
    "def test():\n",
    "    for _ in range(3):\n",
    "        print(f'{multiprocessing.current_process().name} - {time.time()}', 1)\n",
    "        time.sleep(3)\n",
    "\n",
    "prc = []\n",
    "\n",
    "for _ in range(3):\n",
    "    pr = multiprocessing.Process(target=test)\n",
    "    prc.append(pr)\n",
    "    pr.start()\n",
    "\n",
    "for i in prc:\n",
    "    i.join()\n",
    "    \n",
    "print('все процессы завершены')"
   ]
  },
  {
   "cell_type": "markdown",
   "id": "762e4d07-bda1-4e93-9aec-bef73b233c8d",
   "metadata": {},
   "source": [
    "### Запуск процессов из классов\n"
   ]
  },
  {
   "cell_type": "code",
   "execution_count": 3,
   "id": "2e2b3a1b-0dc6-415a-99b0-2584988914f8",
   "metadata": {},
   "outputs": [],
   "source": [
    "import time\n",
    "import multiprocessing\n",
    "\n",
    "class Process(multiprocessing.Process):\n",
    "    def run(self):\n",
    "        print('запущен процесс')\n",
    "        \n",
    "pr = Process()\n",
    "pr.start()"
   ]
  },
  {
   "cell_type": "code",
   "execution_count": 6,
   "id": "d3ff13b0-a406-45b2-8a33-84aa0beeb113",
   "metadata": {},
   "outputs": [
    {
     "data": {
      "text/plain": [
       "{'_identity': (4,),\n",
       " '_config': {'authkey': b\"\\x88\\xd67nQwW\\xe9\\xd0'h\\xf5v\\xf8\\xfft\\xd6\\x8b\\x18I\\xf4\\xb5\\xa7\\r\\r \\x94\\xb56\\xdf\\xf7r\",\n",
       "  'semprefix': '/mp'},\n",
       " '_parent_pid': 9044,\n",
       " '_parent_name': 'MainProcess',\n",
       " '_popen': <multiprocessing.popen_spawn_win32.Popen at 0x1879bb0d250>,\n",
       " '_closed': False,\n",
       " '_name': 'Process-4',\n",
       " '_sentinel': 1424}"
      ]
     },
     "execution_count": 6,
     "metadata": {},
     "output_type": "execute_result"
    }
   ],
   "source": [
    "pr.__dict__"
   ]
  },
  {
   "cell_type": "code",
   "execution_count": 8,
   "id": "5d9bc00a-7b7c-4a3e-a4dc-f60cba6e274c",
   "metadata": {},
   "outputs": [
    {
     "data": {
      "text/plain": [
       "3680"
      ]
     },
     "execution_count": 8,
     "metadata": {},
     "output_type": "execute_result"
    }
   ],
   "source": [
    "pr.pid"
   ]
  },
  {
   "cell_type": "code",
   "execution_count": null,
   "id": "640ee4f9-5350-4d35-b2e2-134494e3e96f",
   "metadata": {},
   "outputs": [],
   "source": [
    "pr"
   ]
  }
 ],
 "metadata": {
  "kernelspec": {
   "display_name": "Python 3 (ipykernel)",
   "language": "python",
   "name": "python3"
  },
  "language_info": {
   "codemirror_mode": {
    "name": "ipython",
    "version": 3
   },
   "file_extension": ".py",
   "mimetype": "text/x-python",
   "name": "python",
   "nbconvert_exporter": "python",
   "pygments_lexer": "ipython3",
   "version": "3.9.5"
  }
 },
 "nbformat": 4,
 "nbformat_minor": 5
}
