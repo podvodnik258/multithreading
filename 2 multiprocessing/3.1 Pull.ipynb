{
 "cells": [
  {
   "cell_type": "code",
   "execution_count": null,
   "id": "c62c6cf8-c518-4347-a1f2-2b7878ccfe39",
   "metadata": {},
   "outputs": [],
   "source": []
  },
  {
   "cell_type": "code",
   "execution_count": null,
   "id": "0c5805a7-4a00-4a12-8eb5-251333d379d3",
   "metadata": {},
   "outputs": [],
   "source": [
    "import multiprocessing\n",
    "\n",
    "def get_value(value):\n",
    "    name = multiprocessing.current_process().name\n",
    "    print(f'[{name}] value: {value}')\n",
    "\n",
    "\n",
    "if __name__ == '__main__':\n",
    "    with multiprocessing.Pool(multiprocessing.cpu_count() * 3) as p:\n",
    "        p.map(get_value, [1, 2, 3, 4, 5])\n"
   ]
  },
  {
   "cell_type": "code",
   "execution_count": null,
   "id": "87a41d8a-d2ec-457e-899d-5bb609599e10",
   "metadata": {},
   "outputs": [],
   "source": [
    "import random\n",
    "import multiprocessing\n",
    "import time\n",
    "\n",
    "def end_func(rasponce):\n",
    "    print('Задание завершено')\n",
    "    print(rasponce)\n",
    "\n",
    "def get_value(value):\n",
    "    name = multiprocessing.current_process().name\n",
    "    print(f'[{name}] value: {value}')\n",
    "    return value\n",
    "\n",
    "\n",
    "\n",
    "if __name__ == '__main__':\n",
    "    with multiprocessing.Pool(multiprocessing.cpu_count() * 3) as p:\n",
    "        p.map_async(get_value, list(range(100)), callback=end_func)\n",
    "        p.close()\n",
    "        p.join()"
   ]
  },
  {
   "cell_type": "code",
   "execution_count": null,
   "id": "a35aeca5-1983-4578-93e1-aa164c9abea4",
   "metadata": {},
   "outputs": [],
   "source": [
    "import multiprocessing\n",
    "\n",
    "def end_func(rasponce):\n",
    "    print('end_func:', rasponce)\n",
    "\n",
    "def out(x):\n",
    "    print(f'value: {x}')\n",
    "    return x\n",
    "\n",
    "if __name__ == '__main__':\n",
    "    with multiprocessing.Pool(multiprocessing.cpu_count() * 3) as p:\n",
    "        for i in range(10):\n",
    "            p.apply_async(out, args=(i, ), callback=end_func)\n",
    "        p.close()\n",
    "        p.join()"
   ]
  },
  {
   "cell_type": "code",
   "execution_count": null,
   "id": "d5c1378a-4b1f-43c8-8e9b-b70c37e675e2",
   "metadata": {},
   "outputs": [],
   "source": [
    "import multiprocessing\n",
    "import time\n",
    "\n",
    "def end_func(rasponce):\n",
    "    print('end_func:', rasponce)\n",
    "\n",
    "def out(x, y, z):\n",
    "    print(f'value: {x}, {y}, {z}')\n",
    "    return x, y, z\n",
    "\n",
    "if __name__ == '__main__':\n",
    "    with multiprocessing.Pool(multiprocessing.cpu_count() * 3) as p:\n",
    "        p.starmap_async(out, [(1, 2, 3), (4, 5, 6)], callback=end_func)\n",
    "        p.close()\n",
    "        p.join()"
   ]
  }
 ],
 "metadata": {
  "kernelspec": {
   "display_name": "Python 3 (ipykernel)",
   "language": "python",
   "name": "python3"
  },
  "language_info": {
   "codemirror_mode": {
    "name": "ipython",
    "version": 3
   },
   "file_extension": ".py",
   "mimetype": "text/x-python",
   "name": "python",
   "nbconvert_exporter": "python",
   "pygments_lexer": "ipython3",
   "version": "3.9.5"
  }
 },
 "nbformat": 4,
 "nbformat_minor": 5
}
