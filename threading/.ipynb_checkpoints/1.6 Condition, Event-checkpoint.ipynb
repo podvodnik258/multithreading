{
 "cells": [
  {
   "cell_type": "markdown",
   "id": "8ca75843-0843-4229-affd-d673c16b5de6",
   "metadata": {},
   "source": [
    "## Event()\n",
    "Поток доходит до wait() и ждет, пока threading.Event() не станет True"
   ]
  },
  {
   "cell_type": "code",
   "execution_count": 3,
   "id": "d2c3dbbe-4eb9-428f-a8f2-b5843feea509",
   "metadata": {},
   "outputs": [],
   "source": [
    "import time\n",
    "import threading\n",
    "\n",
    "event = threading.Event()\n",
    "\n",
    "def test():\n",
    "    for _ in range(5):\n",
    "        event.wait()\n",
    "        print('test')\n",
    "        time.sleep(1)\n",
    "        \n",
    "event.clear() #EVENT FALSE\n",
    "threading.Thread(target=test).start()\n"
   ]
  },
  {
   "cell_type": "code",
   "execution_count": 4,
   "id": "081c0b60-e70d-49c2-bdce-8d0374352e27",
   "metadata": {},
   "outputs": [
    {
     "name": "stdout",
     "output_type": "stream",
     "text": [
      "test\n",
      "test\n",
      "test\n",
      "test\n",
      "test\n"
     ]
    }
   ],
   "source": [
    "event.set() #EVENT FALSE"
   ]
  },
  {
   "cell_type": "markdown",
   "id": "93a3863b-d8dc-4a45-b24e-7f3029fb4964",
   "metadata": {},
   "source": [
    "### Пример\n",
    "Подготовка изображения занимает некоторое время. Для этого мы запускаем подготовку на всех потоках, дожидаемся на wait. Когда количество запущеных потоков сравняется с заданным event.set() открывает возможность всем потокам исполнить код дальше"
   ]
  },
  {
   "cell_type": "code",
   "execution_count": 5,
   "id": "37ded4ed-7a21-4245-a8e9-b969dd9e0b22",
   "metadata": {},
   "outputs": [
    {
     "name": "stdout",
     "output_type": "stream",
     "text": [
      "Идет подготовка изображения из потока [0]\n",
      "Поток [0] запущен\n",
      "Идет подготовка изображения из потока [1]\n",
      "Поток [1] запущен\n",
      "Идет подготовка изображения из потока [2]\n",
      "Поток [2] запущен\n",
      "Идет подготовка изображения из потока [3]\n",
      "Поток [3] запущен\n",
      "Идет подготовка изображения из потока [4]\n",
      "Поток [4] запущен\n",
      "Идет подготовка изображения из потока [5]\n",
      "Поток [5] запущен\n",
      "Идет подготовка изображения из потока [6]\n",
      "Поток [6] запущен\n",
      "Идет подготовка изображения из потока [7]\n",
      "Поток [7] запущен\n",
      "Идет подготовка изображения из потока [8]Поток [8] запущен\n",
      "\n",
      "Идет подготовка изображения из потока [9]\n",
      "Поток [9] запущен\n",
      "Изображение отправленоИзображение отправленоИзображение отправлено\n",
      "Изображение отправленоИзображение отправленоИзображение отправленоИзображение отправлено\n",
      "Изображение отправленоИзображение отправлено\n",
      "\n",
      "\n",
      "\n",
      "\n",
      "Изображение отправлено\n",
      "\n",
      "\n"
     ]
    }
   ],
   "source": [
    "import time\n",
    "import threading\n",
    "\n",
    "event = threading.Event()\n",
    "\n",
    "def image_handler():\n",
    "    thr_num = threading.current_thread().name\n",
    "    print(f'Идет подготовка изображения из потока [{thr_num}]')\n",
    "    event.wait()\n",
    "    print('Изображение отправлено')\n",
    "        \n",
    "\n",
    "for i in range(10):\n",
    "    threading.Thread(target=image_handler, name=str(i)).start()\n",
    "    print(f'Поток [{i}] запущен')\n",
    "    time.sleep(1)\n",
    "    \n",
    "if threading.active_count() >= 10:\n",
    "    event.set()\n"
   ]
  },
  {
   "cell_type": "markdown",
   "id": "1bee2865-8ad2-40ed-82c5-48bf543fd6d2",
   "metadata": {},
   "source": [
    "## Condition\n",
    "В отличие от Event, Condition блокируется попадая снова на wait и его необходимо снова разблокировать методом notify. Event выставлять True False необходимо вручную"
   ]
  },
  {
   "cell_type": "code",
   "execution_count": 7,
   "id": "c892b9af-04f9-43e2-a91a-a5b29b8614e5",
   "metadata": {},
   "outputs": [
    {
     "name": "stdout",
     "output_type": "stream",
     "text": [
      "Получили событие\n",
      "f1: 1\n",
      "f1: 2\n",
      "f1: 3\n",
      "f1: 4\n",
      "Получили событие\n",
      "f1: 6\n",
      "f1: 7\n",
      "f1: 8\n",
      "f1: 9\n",
      "Получили событие\n",
      "f1: 11\n",
      "f1: 12\n",
      "f1: 13\n",
      "f1: 14\n",
      "Получили событие\n",
      "f1: 16\n",
      "f1: 17\n",
      "f1: 18\n",
      "f1: 19\n",
      "Получили событие\n",
      "f1: 21\n",
      "f1: 22\n",
      "f1: 23\n",
      "f1: 24\n",
      "Получили событие\n",
      "f1: 26\n",
      "f1: 27\n",
      "f1: 28\n",
      "f1: 29\n",
      "Получили событие\n",
      "f1: 31\n",
      "f1: 32\n",
      "f1: 33\n",
      "f1: 34\n",
      "Получили событие\n",
      "f1: 36\n",
      "f1: 37\n",
      "f1: 38\n",
      "f1: 39\n",
      "Получили событие\n",
      "f1: 41\n",
      "f1: 42\n",
      "f1: 43\n",
      "f1: 44\n",
      "Получили событие\n",
      "f1: 46\n",
      "f1: 47\n",
      "f1: 48\n",
      "f1: 49\n"
     ]
    }
   ],
   "source": [
    "import time\n",
    "import threading\n",
    "\n",
    "cond = threading.Condition()\n",
    "\n",
    "def f1():\n",
    "    for _ in range(30):\n",
    "        with cond:\n",
    "            cond.wait()\n",
    "            print('Получили событие')\n",
    "            \n",
    "def f2():\n",
    "    for i in range(50):\n",
    "        if i % 5 == 0:\n",
    "            with cond:\n",
    "                cond.notify()\n",
    "        else:\n",
    "            print(f'f1: {i}')\n",
    "        time.sleep(0.2)\n",
    "        \n",
    "threading.Thread(target=f1).start()    \n",
    "threading.Thread(target=f2).start()     \n",
    "    \n",
    "    \n",
    "    "
   ]
  },
  {
   "cell_type": "code",
   "execution_count": null,
   "id": "a44f0439-dedc-4fb3-9af8-b610f81b940a",
   "metadata": {},
   "outputs": [],
   "source": []
  }
 ],
 "metadata": {
  "kernelspec": {
   "display_name": "Python 3 (ipykernel)",
   "language": "python",
   "name": "python3"
  },
  "language_info": {
   "codemirror_mode": {
    "name": "ipython",
    "version": 3
   },
   "file_extension": ".py",
   "mimetype": "text/x-python",
   "name": "python",
   "nbconvert_exporter": "python",
   "pygments_lexer": "ipython3",
   "version": "3.9.5"
  }
 },
 "nbformat": 4,
 "nbformat_minor": 5
}
