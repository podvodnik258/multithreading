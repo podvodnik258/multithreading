{
 "cells": [
  {
   "cell_type": "markdown",
   "id": "3bbec956-6f3b-4e6d-8f31-368639c29fbe",
   "metadata": {},
   "source": [
    "### Timer запускает поток через указанное время в сек."
   ]
  },
  {
   "cell_type": "code",
   "execution_count": 5,
   "id": "842881ea-b47c-4449-9105-8fca1fb49394",
   "metadata": {},
   "outputs": [
    {
     "name": "stdout",
     "output_type": "stream",
     "text": [
      "код продолжается..\n",
      "код продолжается..\n",
      "код продолжается..\n",
      "test\n",
      "test\n",
      "код продолжается..\n",
      "test\n",
      "test\n",
      "test\n",
      "код продолжается..\n",
      "test\n",
      "test\n",
      "test\n",
      "test\n",
      "test\n"
     ]
    }
   ],
   "source": [
    "import time\n",
    "import threading\n",
    "\n",
    "def test():\n",
    "    for _ in range(10):\n",
    "        print('test')\n",
    "        time.sleep(0.5)\n",
    "        \n",
    "threading.Timer(4, test).start()\n",
    "\n",
    "for _ in range(5):\n",
    "    print('код продолжается..')\n",
    "    time.sleep(1.5)\n",
    "    \n",
    "    "
   ]
  },
  {
   "cell_type": "markdown",
   "id": "4c84c3a3-8619-492a-986e-61f4434cc38b",
   "metadata": {},
   "source": [
    "### cancel() отменяет поток Timer даже до того как он запустится"
   ]
  },
  {
   "cell_type": "code",
   "execution_count": 6,
   "id": "d226e4e1-e5ec-434a-8703-a358c0d13c37",
   "metadata": {},
   "outputs": [
    {
     "name": "stdout",
     "output_type": "stream",
     "text": [
      "код продолжается..\n",
      "код продолжается..\n",
      "код продолжается..\n",
      "finish\n"
     ]
    }
   ],
   "source": [
    "import time\n",
    "import threading\n",
    "\n",
    "def test():\n",
    "    for _ in range(6):\n",
    "        print('test')\n",
    "        time.sleep(1)\n",
    "        \n",
    "thr = threading.Timer(5, test)\n",
    "thr.start()\n",
    "\n",
    "for _ in range(3):\n",
    "    print('код продолжается..')\n",
    "    time.sleep(1)\n",
    "\n",
    "thr.cancel()\n",
    "print('finish')"
   ]
  },
  {
   "cell_type": "markdown",
   "id": "b16c90b8-07ac-427b-a66d-95d457d8ae77",
   "metadata": {},
   "source": [
    "### Также поток Timer может быть демоном"
   ]
  },
  {
   "cell_type": "code",
   "execution_count": 7,
   "id": "1ddd7f1a-65d2-4b07-8d2c-9c19562a1e0b",
   "metadata": {},
   "outputs": [
    {
     "name": "stdout",
     "output_type": "stream",
     "text": [
      "код продолжается..\n",
      "код продолжается..\n",
      "код продолжается..\n",
      "код продолжается..\n",
      "код продолжается..\n",
      "testкод продолжается..\n",
      "\n",
      "testfinish\n",
      "\n",
      "test\n",
      "test\n",
      "test\n",
      "test\n"
     ]
    }
   ],
   "source": [
    "import time\n",
    "import threading\n",
    "\n",
    "def test():\n",
    "    for _ in range(6):\n",
    "        print('test')\n",
    "        time.sleep(1)\n",
    "        \n",
    "thr = threading.Timer(5, test)\n",
    "thr.setDaemon(True)\n",
    "thr.start()\n",
    "\n",
    "for _ in range(6):\n",
    "    print('код продолжается..')\n",
    "    time.sleep(1)\n",
    "\n",
    "thr.cancel()\n",
    "print('finish')"
   ]
  },
  {
   "cell_type": "markdown",
   "id": "ac3c35b5-bcbd-49ad-a27d-9a651af07274",
   "metadata": {},
   "source": [
    "## Local - хранилище "
   ]
  },
  {
   "cell_type": "code",
   "execution_count": 13,
   "id": "00a45310-a78b-445e-ab01-50cc06b92d97",
   "metadata": {},
   "outputs": [
    {
     "name": "stdout",
     "output_type": "stream",
     "text": [
      "t1: {'value': 1}\n",
      "t2: [2, 2, 2]\n"
     ]
    }
   ],
   "source": [
    "import threading\n",
    "\n",
    "data = threading.local()\n",
    "\n",
    "def get():\n",
    "    print(data.value)\n",
    "    \n",
    "def t1():\n",
    "    data.value = {'value': 1}\n",
    "    #get()\n",
    "    print('t1:', data.value)\n",
    "    \n",
    "def t2():\n",
    "    data.test = [2,2,2]\n",
    "    #get()\n",
    "    print('t2:', data.test)\n",
    "    \n",
    "threading.Thread(target=t1).start()\n",
    "threading.Thread(target=t2).start()\n"
   ]
  },
  {
   "cell_type": "markdown",
   "id": "627e66ae-e578-48d1-9221-dea4ff8286d3",
   "metadata": {},
   "source": [
    "### При запуске из каждого потока в local создаются атрибуты для каждого соответственно."
   ]
  },
  {
   "cell_type": "code",
   "execution_count": 19,
   "id": "6f4e5074-b15e-4ac2-bd34-d7f6797e0826",
   "metadata": {},
   "outputs": [
    {
     "name": "stdout",
     "output_type": "stream",
     "text": [
      "t1\n",
      "t2\n"
     ]
    }
   ],
   "source": [
    "import threading\n",
    "\n",
    "data = threading.local()\n",
    "\n",
    "def get_name():\n",
    "    print(data.name)\n",
    "    \n",
    "def t1():\n",
    "    data.name = threading.currentThread().name\n",
    "    get_name()\n",
    "    \n",
    "def t2():\n",
    "    data.name = threading.currentThread().name\n",
    "    get_name()\n",
    "    \n",
    "threading.Thread(target=t1, name='t1').start()\n",
    "threading.Thread(target=t1, name='t2').start()"
   ]
  },
  {
   "cell_type": "markdown",
   "id": "8060789c-b00e-4fca-928c-1aedde708a63",
   "metadata": {},
   "source": [
    "###  Доступ из других потоков не попадает в область видимости запущеного потока"
   ]
  },
  {
   "cell_type": "code",
   "execution_count": 20,
   "id": "8521adf4-32af-470e-a89b-1e40c0c26901",
   "metadata": {},
   "outputs": [
    {
     "ename": "AttributeError",
     "evalue": "'_thread._local' object has no attribute 'name'",
     "output_type": "error",
     "traceback": [
      "\u001b[1;31m---------------------------------------------------------------------------\u001b[0m",
      "\u001b[1;31mAttributeError\u001b[0m                            Traceback (most recent call last)",
      "\u001b[1;32mC:\\Users\\73B5~1\\AppData\\Local\\Temp/ipykernel_6468/2707863833.py\u001b[0m in \u001b[0;36m<module>\u001b[1;34m\u001b[0m\n\u001b[0;32m     14\u001b[0m \u001b[0mthreading\u001b[0m\u001b[1;33m.\u001b[0m\u001b[0mThread\u001b[0m\u001b[1;33m(\u001b[0m\u001b[0mtarget\u001b[0m\u001b[1;33m=\u001b[0m\u001b[0mt1\u001b[0m\u001b[1;33m,\u001b[0m \u001b[0mname\u001b[0m\u001b[1;33m=\u001b[0m\u001b[1;34m't1'\u001b[0m\u001b[1;33m)\u001b[0m\u001b[1;33m.\u001b[0m\u001b[0mstart\u001b[0m\u001b[1;33m(\u001b[0m\u001b[1;33m)\u001b[0m\u001b[1;33m\u001b[0m\u001b[1;33m\u001b[0m\u001b[0m\n\u001b[0;32m     15\u001b[0m \u001b[0mtime\u001b[0m\u001b[1;33m.\u001b[0m\u001b[0msleep\u001b[0m\u001b[1;33m(\u001b[0m\u001b[1;36m2\u001b[0m\u001b[1;33m)\u001b[0m\u001b[1;33m\u001b[0m\u001b[1;33m\u001b[0m\u001b[0m\n\u001b[1;32m---> 16\u001b[1;33m \u001b[0mget_name\u001b[0m\u001b[1;33m(\u001b[0m\u001b[1;33m)\u001b[0m\u001b[1;33m\u001b[0m\u001b[1;33m\u001b[0m\u001b[0m\n\u001b[0m",
      "\u001b[1;32mC:\\Users\\73B5~1\\AppData\\Local\\Temp/ipykernel_6468/2707863833.py\u001b[0m in \u001b[0;36mget_name\u001b[1;34m()\u001b[0m\n\u001b[0;32m      5\u001b[0m \u001b[1;33m\u001b[0m\u001b[0m\n\u001b[0;32m      6\u001b[0m \u001b[1;32mdef\u001b[0m \u001b[0mget_name\u001b[0m\u001b[1;33m(\u001b[0m\u001b[1;33m)\u001b[0m\u001b[1;33m:\u001b[0m\u001b[1;33m\u001b[0m\u001b[1;33m\u001b[0m\u001b[0m\n\u001b[1;32m----> 7\u001b[1;33m     \u001b[0mprint\u001b[0m\u001b[1;33m(\u001b[0m\u001b[0mdata\u001b[0m\u001b[1;33m.\u001b[0m\u001b[0mname\u001b[0m\u001b[1;33m)\u001b[0m\u001b[1;33m\u001b[0m\u001b[1;33m\u001b[0m\u001b[0m\n\u001b[0m\u001b[0;32m      8\u001b[0m \u001b[1;33m\u001b[0m\u001b[0m\n\u001b[0;32m      9\u001b[0m \u001b[1;32mdef\u001b[0m \u001b[0mt1\u001b[0m\u001b[1;33m(\u001b[0m\u001b[1;33m)\u001b[0m\u001b[1;33m:\u001b[0m\u001b[1;33m\u001b[0m\u001b[1;33m\u001b[0m\u001b[0m\n",
      "\u001b[1;31mAttributeError\u001b[0m: '_thread._local' object has no attribute 'name'"
     ]
    }
   ],
   "source": [
    "import time\n",
    "import threading\n",
    "\n",
    "data = threading.local()\n",
    "\n",
    "def get_name():\n",
    "    print(data.name)\n",
    "    \n",
    "def t1():\n",
    "    data.name = threading.currentThread().name\n",
    "    time.sleep(10)\n",
    "\n",
    "    \n",
    "threading.Thread(target=t1, name='t1').start()\n",
    "time.sleep(2)\n",
    "get_name()"
   ]
  },
  {
   "cell_type": "code",
   "execution_count": null,
   "id": "4e407f12-10e5-4335-a70e-3d8dbc24811f",
   "metadata": {},
   "outputs": [],
   "source": []
  }
 ],
 "metadata": {
  "kernelspec": {
   "display_name": "Python 3 (ipykernel)",
   "language": "python",
   "name": "python3"
  },
  "language_info": {
   "codemirror_mode": {
    "name": "ipython",
    "version": 3
   },
   "file_extension": ".py",
   "mimetype": "text/x-python",
   "name": "python",
   "nbconvert_exporter": "python",
   "pygments_lexer": "ipython3",
   "version": "3.9.5"
  }
 },
 "nbformat": 4,
 "nbformat_minor": 5
}
