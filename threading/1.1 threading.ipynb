{
 "cells": [
  {
   "cell_type": "markdown",
   "id": "4b5a42ea-a9ab-4986-9e18-90b0e50f85fd",
   "metadata": {},
   "source": [
    "## Создаем поток выводим имя и параметр"
   ]
  },
  {
   "cell_type": "code",
   "execution_count": null,
   "id": "f336ed30-c2e1-469d-8d75-57d9210a0685",
   "metadata": {},
   "outputs": [],
   "source": [
    "import time\n",
    "import threading\n",
    "\n",
    "def get_data(data):\n",
    "    print(f'[{threading.currentThread().name}] - {data}')\n",
    "    time.sleep(5)\n",
    "\n",
    "\n",
    "thr = threading.Thread(target=get_data, args=(str(time.time()),), name='thr-1')\n",
    "thr.start()"
   ]
  },
  {
   "cell_type": "markdown",
   "id": "548ac0d7-53eb-455d-acc5-4239ff96c36f",
   "metadata": {},
   "source": [
    "## Потоки в цикле\n",
    "\n",
    "Программа работает в основном потоке.\n"
   ]
  },
  {
   "cell_type": "code",
   "execution_count": null,
   "id": "577a4da6-f246-478d-8be1-ac9652ef25bd",
   "metadata": {},
   "outputs": [],
   "source": [
    "import time\n",
    "import threading\n",
    "\n",
    "def get_data(data):\n",
    "    while True:\n",
    "        print(f'[{threading.currentThread().name}] - {data}')\n",
    "        time.sleep(1)\n",
    "\n",
    "\n",
    "\n",
    "thr = threading.Thread(target=get_data, args=(str(time.time()),), name='thr-1')\n",
    "thr.start()\n",
    "\n",
    "for i in range(5):\n",
    "    print(f'текущий: {i} ')\n",
    "    time.sleep(1)"
   ]
  },
  {
   "cell_type": "markdown",
   "id": "eba67180-494e-468e-bf7b-d61a583aca05",
   "metadata": {},
   "source": [
    "## Получаем информацию о потоках"
   ]
  },
  {
   "cell_type": "code",
   "execution_count": null,
   "id": "8de9f09a-b164-4b75-b96b-79966613208f",
   "metadata": {},
   "outputs": [],
   "source": [
    "import time\n",
    "import threading\n",
    "\n",
    "def get_data(data):\n",
    "    while True:\n",
    "        print(f'[{threading.currentThread().name}] - {data}')\n",
    "        time.sleep(1)\n",
    "\n",
    "\n",
    "\n",
    "thr = threading.Thread(target=get_data, args=(str(time.time()),), name='thr-1')\n",
    "thr.start()\n",
    "\n",
    "for i in range(6):\n",
    "    print(f'текущий: {i} ')\n",
    "    time.sleep(1)\n",
    "    \n",
    "    if i % 2 == 0:\n",
    "        print('active thread:', threading.active_count())\n",
    "        print('enumerate:', threading.enumerate())\n",
    "        print('thr-1 is alive:', thr.is_alive())"
   ]
  },
  {
   "cell_type": "markdown",
   "id": "a6d57670-b3dd-44f8-af60-28cf6a81d970",
   "metadata": {},
   "source": [
    "## Замена имени \"на лету\""
   ]
  },
  {
   "cell_type": "code",
   "execution_count": 2,
   "id": "8f74cbf3-01d5-446c-8a20-4f59507bba2b",
   "metadata": {},
   "outputs": [
    {
     "name": "stdout",
     "output_type": "stream",
     "text": [
      "name: MainThread\n",
      "result: result\n"
     ]
    }
   ],
   "source": [
    "print('name:', threading.main_thread().name)\n",
    "threading.main_thread().setName('result')\n",
    "print('result:', threading.main_thread().name)"
   ]
  },
  {
   "cell_type": "markdown",
   "id": "aaf0d8af-a15d-495b-91a8-c4694382e98a",
   "metadata": {},
   "source": [
    "## Дождаться выполнения всех потоков\n",
    "join() блокирует выполнение кода в потоке и после выполнения ввсех потоков код продолжается\n"
   ]
  },
  {
   "cell_type": "code",
   "execution_count": 1,
   "id": "b51e95e2-7543-442e-8140-697d3bfc32a2",
   "metadata": {},
   "outputs": [
    {
     "name": "stdout",
     "output_type": "stream",
     "text": [
      "[thr-1] - 1669140277.9626172\n",
      "[thr-2] - 1669140277.964619\n",
      "[thr-2] - 1669140277.964619\n",
      "finish\n"
     ]
    }
   ],
   "source": [
    "import time\n",
    "import threading\n",
    "\n",
    "def get_data(data, value):\n",
    "    for _ in range(value):\n",
    "        print(f'[{threading.currentThread().name}] - {data}')\n",
    "        time.sleep(1)\n",
    "\n",
    "thread_list = []        \n",
    "        \n",
    "for i in range(3):\n",
    "    thr = threading.Thread(target=get_data, args=(str(time.time()), i,), name=f'thr-{i}')\n",
    "    thread_list.append(thr)\n",
    "    thr.start()\n",
    "    \n",
    "for i in thread_list:\n",
    "    i.join()\n",
    "    \n",
    "print('finish')"
   ]
  },
  {
   "cell_type": "code",
   "execution_count": null,
   "id": "168b2604-9947-4351-8074-5473027ecaaf",
   "metadata": {},
   "outputs": [],
   "source": []
  }
 ],
 "metadata": {
  "kernelspec": {
   "display_name": "Python 3 (ipykernel)",
   "language": "python",
   "name": "python3"
  },
  "language_info": {
   "codemirror_mode": {
    "name": "ipython",
    "version": 3
   },
   "file_extension": ".py",
   "mimetype": "text/x-python",
   "name": "python",
   "nbconvert_exporter": "python",
   "pygments_lexer": "ipython3",
   "version": "3.9.5"
  }
 },
 "nbformat": 4,
 "nbformat_minor": 5
}
