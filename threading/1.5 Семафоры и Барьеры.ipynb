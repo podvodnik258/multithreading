{
 "cells": [
  {
   "cell_type": "markdown",
   "id": "f723ed56-36b1-4535-8ed0-00798b508ab3",
   "metadata": {},
   "source": [
    "## Семафор BoundedSemaphore\n",
    "ждет выполнения всех потоков, количество которых в ограничении value"
   ]
  },
  {
   "cell_type": "code",
   "execution_count": 5,
   "id": "b565cf0d-f7a9-4e2c-8233-311664a647e9",
   "metadata": {},
   "outputs": [
    {
     "name": "stdout",
     "output_type": "stream",
     "text": [
      "thread-0\n",
      "thread-1\n",
      "thread-2\n",
      "thread-3\n",
      "thread-4\n",
      "thread-5thread-6\n",
      "\n",
      "thread-7thread-8thread-9\n",
      "\n",
      "\n"
     ]
    }
   ],
   "source": [
    "import time\n",
    "from threading import Thread, BoundedSemaphore, currentThread\n",
    "import random \n",
    "\n",
    "\n",
    "max_connections = 5\n",
    "pool = BoundedSemaphore(value=max_connections)\n",
    "\n",
    "\n",
    "def test():\n",
    "    with pool:\n",
    "        print(currentThread().name)\n",
    "        time.sleep(6)\n",
    "        \n",
    "        \n",
    "for i in range(10):\n",
    "    Thread(target=test, name=f'thread-{i}').start()\n"
   ]
  },
  {
   "cell_type": "code",
   "execution_count": 7,
   "id": "8928d78e-da3f-4cd3-a39f-8367bc31b544",
   "metadata": {},
   "outputs": [
    {
     "name": "stdout",
     "output_type": "stream",
     "text": [
      "thread-0 - sleep (3)\n",
      "thread-1 - sleep (2)\n",
      "thread-2 - sleep (2)\n",
      "thread-3 - sleep (5)thread-4 - sleep (1)\n",
      "\n",
      "thread-5 - sleep (4)\n",
      "thread-6 - sleep (2)\n",
      "thread-7 - sleep (1)\n",
      "thread-8 - sleep (2)\n",
      "thread-9 - sleep (1)\n"
     ]
    }
   ],
   "source": [
    "import time\n",
    "from threading import Thread, BoundedSemaphore, currentThread\n",
    "import random \n",
    "\n",
    "\n",
    "max_connections = 5\n",
    "pool = BoundedSemaphore(value=max_connections)\n",
    "\n",
    "\n",
    "def test():\n",
    "    with pool:\n",
    "        slp = random.randint(1, 5)\n",
    "        print(f'{currentThread().name} - sleep ({slp})')\n",
    "        time.sleep(slp)\n",
    "        \n",
    "        \n",
    "for i in range(10):\n",
    "    Thread(target=test, name=f'thread-{i}').start()"
   ]
  },
  {
   "cell_type": "markdown",
   "id": "150ac9d5-5ae2-4540-bb70-5a9be9131dc1",
   "metadata": {},
   "source": [
    "## Барьер Barrier\n",
    "Барьер Ждет запуска указанного числа потоков, после чего выполняет код дальше.\n",
    "пример позгрузка данных. wait ждет пока прогрузятся все данные, после чего выполняет отправку"
   ]
  },
  {
   "cell_type": "code",
   "execution_count": 9,
   "id": "5a633690-9baa-4993-8bf9-40259b8a005d",
   "metadata": {},
   "outputs": [
    {
     "name": "stdout",
     "output_type": "stream",
     "text": [
      "Поток [thread-0] запущен в (Wed Nov 23 13:56:56 2022)\n",
      "Поток [thread-4] запущен в (Wed Nov 23 13:56:57 2022)\n",
      "Поток [thread-3] запущен в (Wed Nov 23 13:56:58 2022)\n",
      "Поток [thread-2] запущен в (Wed Nov 23 13:56:59 2022)\n",
      "Поток [thread-1] запущен в (Wed Nov 23 13:57:00 2022)\n",
      "Поток [thread-1] преодалел барьер в (Wed Nov 23 13:57:00 2022)\n",
      "Поток [thread-3] преодалел барьер в (Wed Nov 23 13:57:00 2022)\n",
      "Поток [thread-2] преодалел барьер в (Wed Nov 23 13:57:00 2022)\n",
      "Поток [thread-0] преодалел барьер в (Wed Nov 23 13:57:00 2022)\n",
      "Поток [thread-4] преодалел барьер в (Wed Nov 23 13:57:00 2022)\n"
     ]
    }
   ],
   "source": [
    "import time\n",
    "import threading\n",
    "from threading import currentThread\n",
    "import random \n",
    "\n",
    "\n",
    "locker = threading.Lock()\n",
    "\n",
    "def test(barrier):\n",
    "    slp = random.randint(3, 7)\n",
    "    time.sleep(slp)\n",
    "    print(f'Поток [{currentThread().name}] запущен в ({time.ctime()})')\n",
    "    \n",
    "    barrier.wait()\n",
    "    with locker:\n",
    "        print(f'Поток [{currentThread().name}] преодалел барьер в ({time.ctime()})')\n",
    "\n",
    "\n",
    "bar = threading.Barrier(5)\n",
    "for i in range(5):\n",
    "    threading.Thread(target=test, args=(bar,), name=f'thread-{i}').start()"
   ]
  },
  {
   "cell_type": "code",
   "execution_count": null,
   "id": "90ca1227-d4fe-4854-814e-95712cc82d89",
   "metadata": {},
   "outputs": [],
   "source": []
  }
 ],
 "metadata": {
  "kernelspec": {
   "display_name": "Python 3 (ipykernel)",
   "language": "python",
   "name": "python3"
  },
  "language_info": {
   "codemirror_mode": {
    "name": "ipython",
    "version": 3
   },
   "file_extension": ".py",
   "mimetype": "text/x-python",
   "name": "python",
   "nbconvert_exporter": "python",
   "pygments_lexer": "ipython3",
   "version": "3.9.5"
  }
 },
 "nbformat": 4,
 "nbformat_minor": 5
}
