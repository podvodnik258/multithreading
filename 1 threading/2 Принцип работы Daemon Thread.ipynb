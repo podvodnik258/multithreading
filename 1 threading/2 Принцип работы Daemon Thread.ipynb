{
 "cells": [
  {
   "cell_type": "markdown",
   "id": "3538e4c7-3f9f-468d-b810-bdf92a81e6bf",
   "metadata": {},
   "source": [
    "### Обычные потоки продолжают работать, когда главный поток уже завершен "
   ]
  },
  {
   "cell_type": "code",
   "execution_count": 3,
   "id": "fe29e590-921d-4007-8c35-abadaac2add0",
   "metadata": {},
   "outputs": [
    {
     "name": "stdout",
     "output_type": "stream",
     "text": [
      "[Thread-9] - 1669140026.8481953\n",
      "finish\n",
      "[Thread-9] - 1669140026.8481953\n",
      "[Thread-9] - 1669140026.8481953\n",
      "[Thread-9] - 1669140026.8481953\n",
      "[Thread-9] - 1669140026.8481953\n"
     ]
    }
   ],
   "source": [
    "import time\n",
    "import threading\n",
    "\n",
    "def get_data(data):\n",
    "    for _ in range(5):\n",
    "        print(f'[{threading.currentThread().name}] - {data}')\n",
    "        time.sleep(1)\n",
    "        \n",
    "thr = threading.Thread(target=get_data, args=(str(time.time()),))\n",
    "thr.start()\n",
    "print('finish')"
   ]
  },
  {
   "cell_type": "markdown",
   "id": "65a3a009-cdf5-4f0a-ba98-e2046cfba68b",
   "metadata": {},
   "source": [
    "### поток-демон прекращает работу при завершении главного потока"
   ]
  },
  {
   "cell_type": "code",
   "execution_count": 3,
   "id": "47d3851e-1912-4176-b3f2-9fd3c7479c42",
   "metadata": {},
   "outputs": [
    {
     "name": "stdout",
     "output_type": "stream",
     "text": [
      "[Thread-10] - 1669140308.3531687\n",
      "finish\n",
      "[Thread-10] - 1669140308.3531687\n",
      "[Thread-10] - 1669140308.3531687\n",
      "[Thread-10] - 1669140308.3531687\n",
      "[Thread-10] - 1669140308.3531687\n"
     ]
    }
   ],
   "source": [
    "import time\n",
    "import threading\n",
    "\n",
    "def get_data(data):\n",
    "    for _ in range(5):\n",
    "        print(f'[{threading.currentThread().name}] - {data}')\n",
    "        time.sleep(1)\n",
    "        \n",
    "thr = threading.Thread(target=get_data, args=(str(time.time()),), daemon=True)\n",
    "#thr.setDaemon(True)\n",
    "thr.start()\n",
    "#time.sleep(1)\n",
    "\n",
    "print('finish')"
   ]
  },
  {
   "cell_type": "markdown",
   "id": "7f01e127-3c5e-4b95-bf3b-573eb87f965e",
   "metadata": {},
   "source": [
    "#### В этом случае главный поток не может завершить выполнение, так как остается ещё 1 активный поток без флага daemon"
   ]
  },
  {
   "cell_type": "code",
   "execution_count": 2,
   "id": "d90bc2d8-6f54-457d-a7a8-4cf50dfb10bd",
   "metadata": {},
   "outputs": [
    {
     "name": "stdout",
     "output_type": "stream",
     "text": [
      "[spawn-0] - 0\n",
      "started spawn\n",
      "[spawn-1] - 0\n",
      "started spawn\n",
      "[spawn-2] - 0\n",
      "started spawn\n",
      "[spawn-3] - 0started spawn\n",
      "\n",
      "[spawn-0] - 1[spawn-1] - 1[spawn-3] - 1\n",
      "\n",
      "[spawn-2] - 1\n",
      "\n",
      "[spawn-0] - 2\n",
      "[spawn-3] - 2[spawn-2] - 2[spawn-1] - 2\n",
      "\n",
      "\n",
      "finish main thread\n",
      "[spawn-3] - 3[spawn-0] - 3\n",
      "\n",
      "[spawn-1] - 3[spawn-2] - 3\n",
      "\n",
      "[spawn-0] - 4\n",
      "[spawn-2] - 4\n",
      "[spawn-1] - 4[spawn-3] - 4\n",
      "\n",
      "[spawn-1] - 5[spawn-2] - 5\n",
      "\n",
      "[spawn-0] - 5\n",
      "[spawn-3] - 5\n",
      "[spawn-0] - 6\n",
      "[spawn-1] - 6\n",
      "[spawn-2] - 6\n",
      "[spawn-3] - 6\n",
      "[spawn-2] - 7\n",
      "[spawn-0] - 7\n",
      "[spawn-1] - 7\n",
      "[spawn-3] - 7\n",
      "[spawn-0] - 8[spawn-2] - 8[spawn-1] - 8\n",
      "\n",
      "\n",
      "[spawn-3] - 8\n",
      "[spawn-0] - 9\n",
      "[spawn-2] - 9\n",
      "[spawn-1] - 9\n",
      "[spawn-3] - 9\n",
      "finish spawner thread\n"
     ]
    }
   ],
   "source": [
    "import time\n",
    "import threading\n",
    "\n",
    "\n",
    "def get_thread(data):\n",
    "    for i in range(10):\n",
    "        print(f\"[{threading.current_thread().name}] - {i}\")\n",
    "        time.sleep(1)\n",
    "\n",
    "\n",
    "def thread_spawner():\n",
    "    for i in range(4):\n",
    "        thr = threading.Thread(target=get_thread, args=(time.time(),), name=f'spawn-{i}')\n",
    "        thr.setDaemon(True)\n",
    "        thr.start()\n",
    "        print(\"started spawn\")\n",
    "    time.sleep(10)\n",
    "    print(\"finish spawner thread\")\n",
    "    \n",
    "\n",
    "thr = threading.Thread(target=thread_spawner, args=(), name=\"thr-live\", daemon=False)\n",
    "thr.start()\n",
    "\n",
    "time.sleep(3)\n",
    "print(\"finish main thread\")"
   ]
  },
  {
   "cell_type": "code",
   "execution_count": null,
   "id": "49ffc12f-fdd0-4660-8ac3-356fd87c8672",
   "metadata": {},
   "outputs": [],
   "source": []
  }
 ],
 "metadata": {
  "kernelspec": {
   "display_name": "Python 3 (ipykernel)",
   "language": "python",
   "name": "python3"
  },
  "language_info": {
   "codemirror_mode": {
    "name": "ipython",
    "version": 3
   },
   "file_extension": ".py",
   "mimetype": "text/x-python",
   "name": "python",
   "nbconvert_exporter": "python",
   "pygments_lexer": "ipython3",
   "version": "3.9.5"
  }
 },
 "nbformat": 4,
 "nbformat_minor": 5
}
