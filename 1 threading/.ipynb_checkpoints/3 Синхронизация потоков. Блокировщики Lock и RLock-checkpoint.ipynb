{
 "cells": [
  {
   "cell_type": "markdown",
   "id": "4927fd22-49a6-4142-89b8-87a20c228725",
   "metadata": {},
   "source": [
    "## Проблема. \n",
    "Все потоки используют одну область памяти одновременно каждый. Получается непорядок/ пропуски и наслоения"
   ]
  },
  {
   "cell_type": "code",
   "execution_count": 15,
   "id": "51d7663f-f1c7-4d32-891e-6cab6cb12a35",
   "metadata": {},
   "outputs": [
    {
     "name": "stdout",
     "output_type": "stream",
     "text": [
      "1\n",
      "2\n",
      "3\n",
      "4\n",
      "5\n",
      "6\n",
      "7\n",
      "8\n",
      "910\n",
      "\n",
      "11\n",
      "12\n",
      "13\n",
      "1415\n",
      "\n"
     ]
    }
   ],
   "source": [
    "import time\n",
    "import threading\n",
    "\n",
    "value = 0\n",
    "\n",
    "def inc_value():\n",
    "    global value\n",
    "    for _ in range(3):\n",
    "        value += 1\n",
    "        print(value)\n",
    "        time.sleep(0.02)\n",
    "        \n",
    "for _ in range(5):\n",
    "    threading.Thread(target=inc_value).start()"
   ]
  },
  {
   "cell_type": "markdown",
   "id": "dade85f2-b93e-4bf6-a4cc-6206d229be36",
   "metadata": {},
   "source": [
    "### Lock()\n",
    "Блокирует доступ к области памяти для первого достучавшегося потока"
   ]
  },
  {
   "cell_type": "code",
   "execution_count": 12,
   "id": "afc2f8d8-440e-4fde-924b-451d9a750b97",
   "metadata": {},
   "outputs": [
    {
     "name": "stdout",
     "output_type": "stream",
     "text": [
      "1\n",
      "2\n",
      "3\n",
      "4\n",
      "5\n",
      "6\n",
      "7\n",
      "8\n",
      "9\n",
      "10\n",
      "11\n",
      "12\n",
      "13\n",
      "14\n",
      "15\n"
     ]
    }
   ],
   "source": [
    "import time\n",
    "import threading\n",
    "\n",
    "value = 0\n",
    "locker = threading.Lock()\n",
    "def inc_value():\n",
    "    global value\n",
    "    for _ in range(5):\n",
    "        locker.acquire()\n",
    "        value += 1\n",
    "        print(value)\n",
    "        time.sleep(0.01)\n",
    "        locker.release()\n",
    "        \n",
    "for _ in range(3):\n",
    "    threading.Thread(target=inc_value).start()"
   ]
  },
  {
   "cell_type": "markdown",
   "id": "95975c98-3bfd-4b5e-85bc-0e29ea07d551",
   "metadata": {},
   "source": [
    "### Короткая запись"
   ]
  },
  {
   "cell_type": "code",
   "execution_count": 16,
   "id": "26d8f431-1462-4763-a506-41375646e02f",
   "metadata": {},
   "outputs": [
    {
     "name": "stdout",
     "output_type": "stream",
     "text": [
      "1\n",
      "2\n",
      "3\n",
      "4\n",
      "5\n",
      "6\n",
      "7\n",
      "8\n",
      "9\n",
      "10\n",
      "11\n",
      "12\n",
      "13\n",
      "14\n",
      "15\n"
     ]
    }
   ],
   "source": [
    "import time\n",
    "import threading\n",
    "\n",
    "value = 0\n",
    "locker = threading.Lock()\n",
    "def inc_value():\n",
    "    global value\n",
    "    for _ in range(5):\n",
    "        with locker:\n",
    "            value += 1\n",
    "            print(value)\n",
    "            time.sleep(0.01)\n",
    "        \n",
    "for _ in range(3):\n",
    "    threading.Thread(target=inc_value).start()"
   ]
  },
  {
   "cell_type": "markdown",
   "id": "462c75bf-ddbb-4e0a-9b16-4bda0c252379",
   "metadata": {},
   "source": [
    "## Lock() разблокировать может любой поток"
   ]
  },
  {
   "cell_type": "code",
   "execution_count": 17,
   "id": "41fe26a2-5b48-4b51-b3d9-a424740e6cc6",
   "metadata": {},
   "outputs": [
    {
     "name": "stdout",
     "output_type": "stream",
     "text": [
      "Блокируем поток\n",
      "Поток разблокирован\n",
      "Блокируем поток\n"
     ]
    }
   ],
   "source": [
    "import threading\n",
    "\n",
    "locker = threading.Lock()\n",
    "\n",
    "def inc_value():\n",
    "    print('Блокируем поток..')\n",
    "    locker.acquire()\n",
    "    # Тут нагрузка. Подключение к базе данных например.\n",
    "    # locker.release() можно разблокировать из любого потока потока.\n",
    "    print('Поток разблокирован..')\n",
    "        \n",
    "t1= threading.Thread(target=inc_value)\n",
    "t2= threading.Thread(target=inc_value)\n",
    "t1.start()\n",
    "t2.start()"
   ]
  },
  {
   "cell_type": "markdown",
   "id": "fbc61033-c58d-4b17-9f15-00ec3b4c7616",
   "metadata": {},
   "source": [
    "## RLock() разблокировать может лишь тот поток, что заблокировал область памяти."
   ]
  },
  {
   "cell_type": "code",
   "execution_count": null,
   "id": "ce30d866-29fe-42d3-a0ab-01cb8f7708a8",
   "metadata": {},
   "outputs": [],
   "source": [
    "import threading\n",
    "\n",
    "locker = threading.RLock()\n",
    "\n",
    "def inc_value():\n",
    "    print('Блокируем поток..')\n",
    "    locker.acquire()\n",
    "    # Тут нагрузка. Подключение к базе данных например.\n",
    "    # locker.release() разблокировать может лишь тот поток, что заблокировал область памяти.\n",
    "    print('Поток разблокирован..')\n",
    "        \n",
    "t1= threading.Thread(target=inc_value)\n",
    "t2= threading.Thread(target=inc_value)\n",
    "t1.start()\n",
    "t2.start()"
   ]
  }
 ],
 "metadata": {
  "kernelspec": {
   "display_name": "Python 3 (ipykernel)",
   "language": "python",
   "name": "python3"
  },
  "language_info": {
   "codemirror_mode": {
    "name": "ipython",
    "version": 3
   },
   "file_extension": ".py",
   "mimetype": "text/x-python",
   "name": "python",
   "nbconvert_exporter": "python",
   "pygments_lexer": "ipython3",
   "version": "3.9.5"
  }
 },
 "nbformat": 4,
 "nbformat_minor": 5
}
